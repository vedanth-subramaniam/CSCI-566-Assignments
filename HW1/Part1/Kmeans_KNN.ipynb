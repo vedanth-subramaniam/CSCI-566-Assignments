{
 "cells": [
  {
   "cell_type": "markdown",
   "id": "572410899887e138",
   "metadata": {
    "id": "572410899887e138"
   },
   "source": [
    "# **CSCI 566 - Spring 2025 - Homework 1**\n",
    "# **Problem 1: Kmeans and KNN Algorithms (32 points)**\n",
    "Adapted from a Kaggle Blog https://www.kaggle.com/code/orkunaran/detailed-eda-k-prototypes-clustering. The 'TODO' blocks will be the blanks to fill. The original data analytics process is very useful and insightful, so we keep most of the analytics even it has less to do with the algorithm implementation.\n",
    "\n",
    "# Market Customer Personality Analysis\n",
    "\n",
    "## **Objective**\n",
    "Customer Personality Analysis is a detailed examination of a company’s ideal customers. It helps businesses understand customer preferences, behaviors, and concerns, allowing them to modify products and marketing strategies accordingly.\n",
    "\n",
    "By analyzing different customer segments, businesses can allocate resources efficiently, targeting only those segments most likely to buy a specific product rather than marketing to the entire customer base.\n",
    "\n",
    "---\n",
    "\n",
    "## **Steps in This Analysis**\n",
    "\n",
    "### **1. Data Processing (You don't need to do anything)**\n",
    "- Load and clean the dataset.\n",
    "- Handle missing values and perform necessary transformations.\n",
    "- Normalize numerical features and encode categorical variables.\n",
    "\n",
    "### **2. Clustering Using K-Means Algorithm (You will implement the details of the K-Means Algorithm)**\n",
    "- Choose an appropriate number of clusters using methods such as the Elbow Method or Silhouette Score.\n",
    "- Apply the K-Means clustering algorithm to segment customers.\n",
    "- Analyze the customer groups and their characteristics.\n",
    "\n",
    "### **3. Clustering Using K-Prototype Algorithm (You don't need to implement the details of the Algorithm, but you need to fulfill some evaluation functions and choose parameters for the algorithm)**\n",
    "- Combine categorical and numerical data for better clustering.\n",
    "- Use the K-Prototype algorithm to cluster customers based on both categorical and numerical attributes.\n",
    "- Compare results with K-Means clustering for better segmentation.\n",
    "\n",
    "### **4. Classifying Using KNN Algorithm (You will implement the details of the KNN Algorithm)**\n",
    "- Use the numerical data.\n",
    "- Choose `Education` as the label to predict.\n",
    "- Use PCA library to analysis. ATTENTION!! There is a question about the performance of KNN, please remember to reply to that within the same markdown block."
   ]
  },
  {
   "cell_type": "code",
   "execution_count": null,
   "id": "RadpornnfISL",
   "metadata": {
    "ExecuteTime": {
     "end_time": "2025-02-04T05:37:57.432545Z",
     "start_time": "2025-02-04T05:37:57.430222Z"
    },
    "colab": {
     "base_uri": "https://localhost:8080/"
    },
    "executionInfo": {
     "elapsed": 47316,
     "status": "ok",
     "timestamp": 1739225631273,
     "user": {
      "displayName": "Leo Lee",
      "userId": "13227873421404131496"
     },
     "user_tz": 480
    },
    "id": "RadpornnfISL",
    "outputId": "6092af50-83c1-4afe-b15f-6b6beba7e3e1"
   },
   "outputs": [],
   "source": [
    "# Connect to google drive and nagivate to the current folder and pip install from requirements.txt\n",
    "# If you run it locally, you don't need to run this code block\n",
    "from google.colab import drive\n",
    "drive.mount('/content/drive')\n",
    "\n",
    "# Navigate to the folder containing requirements.txt in your Google Drive\n",
    "directory_name = \"CSCI566-S25-Material/HW1/Part1\"\n",
    "%cd /content/drive/MyDrive/{directory_name}/\n",
    "\n",
    "# Install required packages\n",
    "!pip install -r ../requirements.txt"
   ]
  },
  {
   "cell_type": "code",
   "execution_count": null,
   "id": "initial_id",
   "metadata": {
    "ExecuteTime": {
     "end_time": "2025-02-04T05:37:57.471402Z",
     "start_time": "2025-02-04T05:37:57.469491Z"
    },
    "collapsed": true,
    "id": "initial_id"
   },
   "outputs": [],
   "source": [
    "import pandas as pd\n",
    "import warnings\n",
    "\n",
    "warnings.filterwarnings('ignore')\n",
    "pd.set_option('display.max_columns', None)\n",
    "\n",
    "# visuals\n",
    "import matplotlib.pyplot as plt\n",
    "import seaborn as sns\n",
    "import plotly.express as px\n",
    "\n",
    "from kmodes.kprototypes import KPrototypes\n"
   ]
  },
  {
   "cell_type": "code",
   "execution_count": null,
   "id": "a6ce6d3dda4e81dc",
   "metadata": {
    "ExecuteTime": {
     "end_time": "2025-02-04T05:37:57.504430Z",
     "start_time": "2025-02-04T05:37:57.498761Z"
    },
    "id": "a6ce6d3dda4e81dc"
   },
   "outputs": [],
   "source": [
    "market = pd.read_csv('marketing_campaign.csv', delimiter=\"\\t\")\n",
    "market = market.drop(['ID','Dt_Customer'], axis=1)"
   ]
  },
  {
   "cell_type": "markdown",
   "id": "74e1b13cd20177f7",
   "metadata": {
    "id": "74e1b13cd20177f7"
   },
   "source": [
    "# Descriptive Statistics"
   ]
  },
  {
   "cell_type": "code",
   "execution_count": null,
   "id": "7dcdebcb279704bb",
   "metadata": {
    "ExecuteTime": {
     "end_time": "2025-02-04T05:37:57.513389Z",
     "start_time": "2025-02-04T05:37:57.507632Z"
    },
    "colab": {
     "base_uri": "https://localhost:8080/",
     "height": 383
    },
    "collapsed": true,
    "id": "7dcdebcb279704bb",
    "outputId": "1a04265f-e826-42c8-fe2b-f66042004759"
   },
   "outputs": [],
   "source": [
    "market.head(n=10)\n"
   ]
  },
  {
   "cell_type": "code",
   "execution_count": null,
   "id": "2c1dfd5e3cdde406",
   "metadata": {
    "ExecuteTime": {
     "end_time": "2025-02-04T05:37:57.555596Z",
     "start_time": "2025-02-04T05:37:57.553513Z"
    },
    "colab": {
     "base_uri": "https://localhost:8080/"
    },
    "collapsed": true,
    "id": "2c1dfd5e3cdde406",
    "outputId": "1e389847-1f38-4435-d1de-16fad82262cf"
   },
   "outputs": [],
   "source": [
    "market.shape"
   ]
  },
  {
   "cell_type": "code",
   "execution_count": null,
   "id": "422236c81d0e6274",
   "metadata": {
    "ExecuteTime": {
     "end_time": "2025-02-04T05:37:57.582964Z",
     "start_time": "2025-02-04T05:37:57.578712Z"
    },
    "colab": {
     "base_uri": "https://localhost:8080/"
    },
    "collapsed": true,
    "id": "422236c81d0e6274",
    "outputId": "98cfdfa3-9df0-46db-93d0-4e62d77addca"
   },
   "outputs": [],
   "source": [
    "market.info()"
   ]
  },
  {
   "cell_type": "code",
   "execution_count": null,
   "id": "3ba838a54b09c063",
   "metadata": {
    "ExecuteTime": {
     "end_time": "2025-02-04T05:37:57.628749Z",
     "start_time": "2025-02-04T05:37:57.611428Z"
    },
    "colab": {
     "base_uri": "https://localhost:8080/",
     "height": 320
    },
    "collapsed": true,
    "id": "3ba838a54b09c063",
    "outputId": "d230ccb8-29d5-43c9-bb90-1fbff5df7db9"
   },
   "outputs": [],
   "source": [
    "market.describe()"
   ]
  },
  {
   "cell_type": "markdown",
   "id": "bb92c5bdcd6e111e",
   "metadata": {
    "id": "bb92c5bdcd6e111e"
   },
   "source": [
    "# **Introduction to Data**\n",
    "\n",
    "## **Dataset Overview**\n",
    "- The dataset contains **2,240 rows** and **28 columns**.\n",
    "- Each row represents a unique customer, with **no duplicate entries**.\n",
    "- No missing values or negative values were found in the dataset.\n",
    "\n",
    "## **Understanding the Columns**\n",
    "Some columns require further clarification, such as:\n",
    "- **AcceptedCmp**\n",
    "- **Recency**\n",
    "- **Z_CostContact**\n",
    "- **Response**\n",
    "\n",
    "Understanding these columns is essential for accurate analysis.\n",
    "\n",
    "## **Key Observations**\n",
    "- **Income Distribution:**\n",
    "  - The highest income value is **6,666,666**, which appears to be an outlier.\n",
    "  - Most income values fall between **35k and 68k**.\n",
    "\n",
    "- **Website Visits:**\n",
    "  - The **average number of website visits per month** is **5** for **2,000 customers**.\n",
    "  - The maximum recorded value is **20**.\n",
    "\n",
    "- **AcceptedCmp Columns:**\n",
    "  - These columns contain **binary values (0 or 1)**, indicating a yes/no response."
   ]
  },
  {
   "cell_type": "markdown",
   "id": "aaf203b164c28483",
   "metadata": {
    "id": "aaf203b164c28483"
   },
   "source": [
    "# Creating New Columns"
   ]
  },
  {
   "cell_type": "code",
   "execution_count": null,
   "id": "3c6560786fe344c0",
   "metadata": {
    "ExecuteTime": {
     "end_time": "2025-02-04T05:37:57.674674Z",
     "start_time": "2025-02-04T05:37:57.670979Z"
    },
    "id": "3c6560786fe344c0"
   },
   "outputs": [],
   "source": [
    "# total number of children\n",
    "market['no_children'] = market['Kidhome'] + market['Teenhome']\n",
    "# total items bought\n",
    "market['total_items_bought'] = market['MntWines'] + market['MntFruits'] + market['MntMeatProducts'] + market[\n",
    "    'MntFishProducts'] + market['MntSweetProducts'] + market['MntGoldProds']\n",
    "# total number of purchases\n",
    "market['total_nbr_purchases'] = market['NumDealsPurchases'] + market['NumWebPurchases'] + market[\n",
    "    'NumCatalogPurchases'] + market['NumStorePurchases']\n",
    "#customer age\n",
    "market['age'] = 2021 - market['Year_Birth']\n",
    "\n",
    "market = market.drop(['Year_Birth'], axis=1)"
   ]
  },
  {
   "cell_type": "code",
   "execution_count": null,
   "id": "8158583d09f09133",
   "metadata": {
    "ExecuteTime": {
     "end_time": "2025-02-04T05:37:57.714164Z",
     "start_time": "2025-02-04T05:37:57.695309Z"
    },
    "colab": {
     "base_uri": "https://localhost:8080/",
     "height": 320
    },
    "collapsed": true,
    "id": "8158583d09f09133",
    "outputId": "2441f5b0-fd29-458d-b518-82e7a09dc3fd"
   },
   "outputs": [],
   "source": [
    "market.describe()"
   ]
  },
  {
   "cell_type": "code",
   "execution_count": null,
   "id": "c021be130b632e24",
   "metadata": {
    "ExecuteTime": {
     "end_time": "2025-02-04T05:37:57.754589Z",
     "start_time": "2025-02-04T05:37:57.748013Z"
    },
    "colab": {
     "base_uri": "https://localhost:8080/",
     "height": 101
    },
    "collapsed": true,
    "id": "c021be130b632e24",
    "outputId": "ccb6899b-bf3a-4376-a633-5d73431ae405"
   },
   "outputs": [],
   "source": [
    "market[market['Income']>600000]"
   ]
  },
  {
   "cell_type": "code",
   "execution_count": null,
   "id": "8000c98ea530e2ef",
   "metadata": {
    "ExecuteTime": {
     "end_time": "2025-02-04T05:37:57.800769Z",
     "start_time": "2025-02-04T05:37:57.795198Z"
    },
    "colab": {
     "base_uri": "https://localhost:8080/",
     "height": 163
    },
    "collapsed": true,
    "id": "8000c98ea530e2ef",
    "outputId": "18954f1b-c98f-4460-eae8-b565059959ae"
   },
   "outputs": [],
   "source": [
    "market[market['age']>90]"
   ]
  },
  {
   "cell_type": "code",
   "execution_count": null,
   "id": "ede1923bffa5fb6b",
   "metadata": {
    "ExecuteTime": {
     "end_time": "2025-02-04T05:37:57.854556Z",
     "start_time": "2025-02-04T05:37:57.851706Z"
    },
    "id": "ede1923bffa5fb6b"
   },
   "outputs": [],
   "source": [
    "market = market[market['Income']<600000]\n",
    "market = market[market['age']<90]"
   ]
  },
  {
   "cell_type": "markdown",
   "id": "d7cddee91b226681",
   "metadata": {
    "id": "d7cddee91b226681"
   },
   "source": [
    "# Visuals"
   ]
  },
  {
   "cell_type": "code",
   "execution_count": null,
   "id": "7e90052649014fe0",
   "metadata": {
    "ExecuteTime": {
     "end_time": "2025-02-04T05:37:57.904459Z",
     "start_time": "2025-02-04T05:37:57.901609Z"
    },
    "id": "7e90052649014fe0"
   },
   "outputs": [],
   "source": [
    "def hist_with_vline(column):\n",
    "    \"\"\"\n",
    "    Plots a histogram for the given column with 100 bins.\n",
    "    Draws vertical lines for both the mean and median values.\n",
    "\n",
    "    Parameters:\n",
    "    column (str): The name of the column to be visualized.\n",
    "\n",
    "    Returns:\n",
    "    None\n",
    "    \"\"\"\n",
    "\n",
    "    # Set figure size\n",
    "    plt.figure(figsize=(12, 6))\n",
    "\n",
    "    # Plot histogram with 100 bins\n",
    "    sns.histplot(market[column], bins=100)\n",
    "\n",
    "    # Set plot title\n",
    "    plt.title(f'Histogram of {column}')\n",
    "\n",
    "    # Get the y-axis limits\n",
    "    _, y_lim = plt.ylim()\n",
    "\n",
    "    # Compute mean and median values\n",
    "    mean_value = market[column].mean()\n",
    "    median_value = market[column].median()\n",
    "\n",
    "    # Draw a vertical line for the mean (red)\n",
    "    plt.axvline(mean_value, color='r', linestyle='--', label=f'Mean: {mean_value:.2f}')\n",
    "    plt.text(mean_value * 1.1, y_lim * 0.95, f\"Mean: {mean_value:.2f}\", color='r')\n",
    "\n",
    "    # Draw a vertical line for the median (blue)\n",
    "    plt.axvline(median_value, color='b', linestyle='--', label=f'Median: {median_value:.2f}')\n",
    "    plt.text(median_value * 1.1, y_lim * 0.90, f\"Median: {median_value:.2f}\", color='b')\n",
    "\n",
    "    # Display legend for better understanding\n",
    "    plt.legend()\n",
    "\n",
    "    # Show the plot\n",
    "    plt.show()"
   ]
  },
  {
   "cell_type": "markdown",
   "id": "e9e3928019f2a13b",
   "metadata": {
    "id": "e9e3928019f2a13b"
   },
   "source": [
    "# Take a look at the income"
   ]
  },
  {
   "cell_type": "code",
   "execution_count": null,
   "id": "7dca778e215f2126",
   "metadata": {
    "ExecuteTime": {
     "end_time": "2025-02-04T05:37:58.067233Z",
     "start_time": "2025-02-04T05:37:57.960391Z"
    },
    "colab": {
     "base_uri": "https://localhost:8080/",
     "height": 564
    },
    "collapsed": true,
    "id": "7dca778e215f2126",
    "outputId": "1b7a15d1-4b8f-4866-9e24-c773de15eb05"
   },
   "outputs": [],
   "source": [
    "hist_with_vline('Income')"
   ]
  },
  {
   "cell_type": "code",
   "execution_count": null,
   "id": "a08d5f24cfc56fd1",
   "metadata": {
    "ExecuteTime": {
     "end_time": "2025-02-04T05:37:58.073827Z",
     "start_time": "2025-02-04T05:37:58.071192Z"
    },
    "id": "a08d5f24cfc56fd1"
   },
   "outputs": [],
   "source": [
    "# The customers earn more than 120k are probably outliers, we will remove them.\n",
    "market = market[market['Income']<120000]"
   ]
  },
  {
   "cell_type": "code",
   "execution_count": null,
   "id": "781a9c49737dd2d7",
   "metadata": {
    "ExecuteTime": {
     "end_time": "2025-02-04T05:37:58.226286Z",
     "start_time": "2025-02-04T05:37:58.125939Z"
    },
    "colab": {
     "base_uri": "https://localhost:8080/",
     "height": 564
    },
    "collapsed": true,
    "id": "781a9c49737dd2d7",
    "outputId": "4a1d8412-8aa8-487e-b6e1-c35617326246"
   },
   "outputs": [],
   "source": [
    "# Most of the customers earn between 40k to 70k.\n",
    "hist_with_vline('Income')"
   ]
  },
  {
   "cell_type": "code",
   "execution_count": null,
   "id": "f1bedcc98d1e9d9d",
   "metadata": {
    "ExecuteTime": {
     "end_time": "2025-02-04T05:37:58.332281Z",
     "start_time": "2025-02-04T05:37:58.230206Z"
    },
    "colab": {
     "base_uri": "https://localhost:8080/",
     "height": 564
    },
    "collapsed": true,
    "id": "f1bedcc98d1e9d9d",
    "outputId": "7d5260a0-fa60-4d04-c954-0e71873affbb"
   },
   "outputs": [],
   "source": [
    "hist_with_vline('total_items_bought')"
   ]
  },
  {
   "cell_type": "code",
   "execution_count": null,
   "id": "9ffb2266fa9c8ff2",
   "metadata": {
    "ExecuteTime": {
     "end_time": "2025-02-04T05:37:58.885201Z",
     "start_time": "2025-02-04T05:37:58.358644Z"
    },
    "colab": {
     "base_uri": "https://localhost:8080/",
     "height": 872
    },
    "collapsed": true,
    "id": "9ffb2266fa9c8ff2",
    "outputId": "32ba1d1f-03a5-4df4-b699-2a6d609baa4a"
   },
   "outputs": [],
   "source": [
    "columns = ['MntWines', 'MntFruits', 'MntMeatProducts', 'MntFishProducts', 'MntSweetProducts', 'MntGoldProds']\n",
    "titles = ['Wines Sold', 'Fruits Sold', 'Meat Products Sold', 'Fish Products Sold', 'Sweets Sold', 'Gold Sold']\n",
    "colors = ['blue', 'green', 'darkblue', 'red', 'orange', 'yellow']\n",
    "\n",
    "fig, ax = plt.subplots(2, 3, figsize=(16, 10))\n",
    "# All the sold products histograms are right skewed. Majority of the customers buys items lower than certain amounts.\n",
    "# On the other hand, Wines are the most sold items (675k) and Meat produces follow with 364k, while the Fruit and Sweet products are the least sold items (58k and 59k respectively).\n",
    "for i in range(len(columns)):\n",
    "    sns.histplot(market[columns[i]], bins=100, ax=ax[i // 3, i % 3], color=colors[i])\n",
    "    ax[i // 3, i % 3].set_title('Distribution of ' + titles[i])\n",
    "    ax[i // 3, i % 3].set_xlabel(titles[i])\n",
    "    ax[i // 3, i % 3].text(s=f\"Total number of \\n{columns[i]} sold are {market[columns[i]].sum()} \",\n",
    "                           x=market[columns[i]].max() / 3.5, y=200)"
   ]
  },
  {
   "cell_type": "code",
   "execution_count": null,
   "id": "3549faecc9b92c87",
   "metadata": {
    "ExecuteTime": {
     "end_time": "2025-02-04T05:37:58.980055Z",
     "start_time": "2025-02-04T05:37:58.909684Z"
    },
    "colab": {
     "base_uri": "https://localhost:8080/",
     "height": 564
    },
    "collapsed": true,
    "id": "3549faecc9b92c87",
    "outputId": "6fbf0cce-cead-4add-aeb1-2cd09304fa11"
   },
   "outputs": [],
   "source": [
    "plt.figure(figsize=(12, 6))\n",
    "# There is a linear relation with income and number of items bought.\n",
    "_ = sns.scatterplot(x='Income', y='total_items_bought', data=market)\n",
    "_ = plt.title('Income vs Total Items Bought')\n",
    "_ = plt.ylabel('Total Items Bought')"
   ]
  },
  {
   "cell_type": "code",
   "execution_count": null,
   "id": "3c7bd87e19c71f87",
   "metadata": {
    "ExecuteTime": {
     "end_time": "2025-02-04T05:37:59.028702Z",
     "start_time": "2025-02-04T05:37:59.005581Z"
    },
    "colab": {
     "base_uri": "https://localhost:8080/",
     "height": 542
    },
    "collapsed": true,
    "id": "3c7bd87e19c71f87",
    "outputId": "e8550877-8816-47b1-8fbd-80852a0eb917"
   },
   "outputs": [],
   "source": [
    "px.scatter(market,\n",
    "           x='Income',\n",
    "           y='total_items_bought',\n",
    "           color='Education',\n",
    "           title='Income According to Educational Status', )"
   ]
  },
  {
   "cell_type": "code",
   "execution_count": null,
   "id": "e236ec5ac0896bfd",
   "metadata": {
    "ExecuteTime": {
     "end_time": "2025-02-04T05:37:59.075779Z",
     "start_time": "2025-02-04T05:37:59.072124Z"
    },
    "colab": {
     "base_uri": "https://localhost:8080/",
     "height": 272
    },
    "collapsed": true,
    "id": "e236ec5ac0896bfd",
    "outputId": "d9a42a48-51d0-4f33-c08e-78dc260c4427"
   },
   "outputs": [],
   "source": [
    "market.Education.value_counts()"
   ]
  },
  {
   "cell_type": "code",
   "execution_count": null,
   "id": "ca9ae7b64c851824",
   "metadata": {
    "ExecuteTime": {
     "end_time": "2025-02-04T05:37:59.306808Z",
     "start_time": "2025-02-04T05:37:59.119691Z"
    },
    "colab": {
     "base_uri": "https://localhost:8080/",
     "height": 564
    },
    "collapsed": true,
    "id": "ca9ae7b64c851824",
    "outputId": "c3960648-fba1-4c2e-da2e-244fa10ab4d2"
   },
   "outputs": [],
   "source": [
    "fig, (ax0, ax1) = plt.subplots(1, 2, figsize=(12, 6))\n",
    "_ = sns.barplot(x='Education', y='Income', data=market, ax=ax0)\n",
    "ax0.set_title('Income According to Education')\n",
    "_ = sns.barplot(x='Education', y='total_items_bought', data=market, ax=ax1)\n",
    "ax1.set_title('Total Items Bought By Custormers by Their Educational Status')\n",
    "# Customers with a PhD earn and spend more than any other customers with different educational background. And, not so surprisingly Basic level educated customers earn and spend the least amount of money. And when we investigate the number of customers in each group, it is wise to investigate what customers buy with different educational backgrounds.\n",
    "_ = ax0.text(s=f\"n :{market.Education.value_counts()[0]}\", x=-0.35, y=10000)\n",
    "_ = ax0.text(s=f\"n :{market.Education.value_counts()[1]}\", x=0.75, y=10000)\n",
    "_ = ax0.text(s=f\"n :{market.Education.value_counts()[2]}\", x=1.75, y=10000)\n",
    "_ = ax0.text(s=f\"n :{market.Education.value_counts()[3]}\", x=2.75, y=10000)\n",
    "_ = ax0.text(s=f\"n :{market.Education.value_counts()[4]}\", x=3.75, y=10000)"
   ]
  },
  {
   "cell_type": "code",
   "execution_count": null,
   "id": "3cca2306b4a59801",
   "metadata": {
    "ExecuteTime": {
     "end_time": "2025-02-04T05:37:59.350572Z",
     "start_time": "2025-02-04T05:37:59.323986Z"
    },
    "colab": {
     "base_uri": "https://localhost:8080/",
     "height": 542
    },
    "collapsed": true,
    "id": "3cca2306b4a59801",
    "outputId": "0784eaef-8cec-4f77-ba88-403895a968d7"
   },
   "outputs": [],
   "source": [
    "px.scatter(market,\n",
    "           x='Income',\n",
    "           y='total_items_bought',\n",
    "           color='Marital_Status',\n",
    "           title='Income According to Marital Status', )"
   ]
  },
  {
   "cell_type": "code",
   "execution_count": null,
   "id": "9cd4c0bd3c237e0e",
   "metadata": {
    "ExecuteTime": {
     "end_time": "2025-02-04T05:37:59.609945Z",
     "start_time": "2025-02-04T05:37:59.356014Z"
    },
    "colab": {
     "base_uri": "https://localhost:8080/",
     "height": 564
    },
    "collapsed": true,
    "id": "9cd4c0bd3c237e0e",
    "outputId": "cddc2294-c5ef-4f99-c86f-3bd014549eef"
   },
   "outputs": [],
   "source": [
    "fig, (ax0, ax1) = plt.subplots(1, 2, figsize=(15, 6))\n",
    "_ = sns.barplot(x='Marital_Status', y='Income', data=market, ax=ax0)\n",
    "_ = ax0.set_title('Income According to Marital Status')\n",
    "_ = sns.barplot(x='Marital_Status', y='total_items_bought', data=market, ax=ax1)\n",
    "_ = ax1.set_title('Total Items Bought By Custormers by Their Marital Status')\n",
    "\n",
    "# Individuals labeled as “absurd” have the highest earnings, followed by widows. However, categories like “Alone,” “absurd,” and “YOLO” might not be relevant for analysis, so it’s better to focus on the other groups and their purchasing behavior.\n",
    "#\n",
    "\n",
    "_ = ax0.text(s=f\"n = \\n{market.Marital_Status.value_counts()[0]}\", x=-0.35, y=10000)\n",
    "_ = ax0.text(s=f\"n = \\n{market.Marital_Status.value_counts()[1]}\", x=0.75, y=10000)\n",
    "_ = ax0.text(s=f\"n = \\n{market.Marital_Status.value_counts()[2]}\", x=1.75, y=10000)\n",
    "_ = ax0.text(s=f\"n = \\n{market.Marital_Status.value_counts()[3]}\", x=2.75, y=10000)\n",
    "_ = ax0.text(s=f\"n = \\n{market.Marital_Status.value_counts()[4]}\", x=3.75, y=10000)\n",
    "_ = ax0.text(s=f\"n = \\n{market.Marital_Status.value_counts()[5]}\", x=4.75, y=10000)\n",
    "_ = ax0.text(s=f\"n = \\n{market.Marital_Status.value_counts()[6]}\", x=5.75, y=10000)\n",
    "_ = ax0.text(s=f\"n = \\n{market.Marital_Status.value_counts()[7]}\", x=6.75, y=10000)"
   ]
  },
  {
   "cell_type": "code",
   "execution_count": null,
   "id": "3f5a9c4a3c165b2e",
   "metadata": {
    "ExecuteTime": {
     "end_time": "2025-02-04T05:37:59.679677Z",
     "start_time": "2025-02-04T05:37:59.660426Z"
    },
    "colab": {
     "base_uri": "https://localhost:8080/",
     "height": 289
    },
    "collapsed": true,
    "id": "3f5a9c4a3c165b2e",
    "outputId": "17ac0262-83c3-438f-eeba-442582c1eebe"
   },
   "outputs": [],
   "source": [
    "# Since the number of individuals in each group varies significantly, using the total sum of purchases (e.g., Wine, Meat, etc.) wouldn’t be ideal. Instead, calculating the mean for each category would provide a clearer comparison. Let’s first examine the data using the groupby function.\n",
    "market.groupby(['Education'])[market.select_dtypes(include=['number']).columns].agg(['mean', 'sum'])\n"
   ]
  },
  {
   "cell_type": "markdown",
   "id": "e19bc0660c6e47e5",
   "metadata": {
    "id": "e19bc0660c6e47e5"
   },
   "source": [
    "# Analysis of Product Sales\n",
    "\n",
    "## Education and Product Preferences\n",
    "- Wine Consumption: There is a strong correlation between education level and wine purchases.\n",
    "  - PhD holders buy the most wine.\n",
    "  - Customers with only basic education (likely those who did not complete secondary school) purchase the least.\n",
    "  - Other education levels have similar purchasing patterns (an A/B test, such as the Kruskal-Wallis test followed by the Mann-Whitney U test, could provide more insights).\n",
    "- Other Products:\n",
    "  - Graduates tend to buy more fruits, meat, and gold products.\n",
    "  - Customers with a secondary education (2nd Cycle) purchase more fish and sweet products.\n",
    "\n",
    "---\n",
    "\n",
    "## Sales Channels: How Are Products Sold?\n",
    "We analyze product purchases across different sales channels: deals, web, catalog, and in-store purchases.\n",
    "\n",
    "### Purchases via Deals\n",
    "- Customers with a Master’s degree frequently buy products through deals (possibly while pursuing their PhD).\n",
    "- However, Graduates and PhD holders also take advantage of deals significantly.\n",
    "\n",
    "### Online Shopping Trends\n",
    "- PhD holders and Graduates use online shopping slightly more than those with a Master's degree.\n",
    "\n",
    "### Catalog Purchases\n",
    "- Again, PhD holders and Graduates are the most likely to purchase via catalogs.\n",
    "\n",
    "### In-Store Purchases\n",
    "- PhD holders seem to prefer shopping in stores the most.\n",
    "- Customers with a Master’s or Graduate degree also visit physical stores frequently.\n",
    "\n",
    "### Website Visits\n",
    "- Customers with basic education levels visit the store’s website more than any other group.\n",
    "- This suggests that they actively follow deals and promotions but might face challenges in completing purchases.\n",
    "- A potential strategy for store owners: Introduce special deals or incentives to encourage these customers to make purchases."
   ]
  },
  {
   "cell_type": "code",
   "execution_count": null,
   "id": "b59e1a9091f15db4",
   "metadata": {
    "ExecuteTime": {
     "end_time": "2025-02-04T05:37:59.862361Z",
     "start_time": "2025-02-04T05:37:59.703627Z"
    },
    "colab": {
     "base_uri": "https://localhost:8080/",
     "height": 563
    },
    "collapsed": true,
    "id": "b59e1a9091f15db4",
    "outputId": "023697c4-eb0b-438d-d6fa-e42240131514"
   },
   "outputs": [],
   "source": [
    "# Does Children effect market shopping?\n",
    "# The families with no children earn and spend more than families with children.\n",
    "fig, (ax0, ax1) = plt.subplots(1, 2, figsize=(12, 6), sharex=True)\n",
    "_ = sns.barplot(x=market.no_children, y=market.Income, ax=ax0)\n",
    "_ = sns.barplot(x=market.no_children, y=market.total_items_bought, ax=ax1)\n",
    "ax0.text(s=f\"n:{market[market['no_children'] == 0]['no_children'].count()}\", x=-0.25, y=20000)\n",
    "ax0.text(s=f\"n:{market[market['no_children'] == 1]['no_children'].count()}\", x=0.75, y=20000)\n",
    "ax0.text(s=f\"n:{market[market['no_children'] == 2]['no_children'].count()}\", x=1.75, y=20000)\n",
    "ax0.text(s=f\"n:{market[market['no_children'] == 3]['no_children'].count()}\", x=2.75, y=20000)\n",
    "\n",
    "ax1.text(s=f\"Mean Sales: \\n{market[market['no_children'] == 0]['total_items_bought'].mean():.2f}\", x=-0.35, y=50)\n",
    "ax1.text(s=f\"Mean Sales: \\n{market[market['no_children'] == 1]['total_items_bought'].mean():.2f}\", x=0.65, y=50)\n",
    "ax1.text(s=f\"Mean Sales: \\n{market[market['no_children'] == 2]['total_items_bought'].mean():.2f}\", x=1.65, y=50)\n",
    "ax1.text(s=f\"Mean Sales: \\n{market[market['no_children'] == 3]['total_items_bought'].mean():.2f}\", x=2.65, y=50)"
   ]
  },
  {
   "cell_type": "markdown",
   "id": "9e8f5a62e10a13de",
   "metadata": {
    "id": "9e8f5a62e10a13de"
   },
   "source": [
    "# KMeans"
   ]
  },
  {
   "cell_type": "code",
   "execution_count": null,
   "id": "1f7be0c4d16a877c",
   "metadata": {
    "ExecuteTime": {
     "end_time": "2025-02-04T05:38:00.054451Z",
     "start_time": "2025-02-04T05:37:59.880316Z"
    },
    "colab": {
     "base_uri": "https://localhost:8080/",
     "height": 410
    },
    "collapsed": true,
    "id": "1f7be0c4d16a877c",
    "outputId": "1c81c030-4229-4569-a251-8aba67579ef1"
   },
   "outputs": [],
   "source": [
    "from sklearn.metrics import silhouette_score\n",
    "import numpy as np\n",
    "import pandas as pd\n",
    "import matplotlib.pyplot as plt\n",
    "import seaborn as sns\n",
    "\n",
    "\n",
    "##################################################\n",
    "# StandardScaler class\n",
    "##################################################\n",
    "class StandardScaler:\n",
    "    def __init__(self):\n",
    "        self.mean_ = None\n",
    "        self.std_ = None\n",
    "\n",
    "    def fit(self, X):\n",
    "        \"\"\"\n",
    "        Calculate the mean and standard deviation for each column.\n",
    "\n",
    "        Parameters:\n",
    "            X: numpy array or DataFrame, shape (n_samples, n_features)\n",
    "        \"\"\"\n",
    "        # If the input is a Pandas DataFrame, convert it to a numpy array\n",
    "        # Prevent division by zero for features with zero standard deviation\n",
    "        # 2 Points\n",
    "        # TODO ===== YOUR CODE HERE =====\n",
    "\n",
    "        # TODO ==========================\n",
    "        return self\n",
    "\n",
    "    def transform(self, X):\n",
    "        \"\"\"\n",
    "        Standardize the data using the computed mean and standard deviation.\n",
    "\n",
    "        Parameters:\n",
    "            X: numpy array or DataFrame\n",
    "\n",
    "        Returns:\n",
    "            Standardized numpy array\n",
    "        \"\"\"\n",
    "        if isinstance(X, pd.DataFrame):\n",
    "            X = X.values\n",
    "        # 2 Points\n",
    "        # TODO ===== YOUR CODE HERE =====\n",
    "        return \n",
    "        # TODO ==========================\n",
    "\n",
    "    def fit_transform(self, X):\n",
    "        \"\"\"\n",
    "        Fit to the data, then transform it.\n",
    "        \"\"\"\n",
    "        self.fit(X)\n",
    "        return self.transform(X)\n",
    "\n",
    "\n",
    "##################################################\n",
    "# KMeans class\n",
    "##################################################\n",
    "class KMeans:\n",
    "    def __init__(self, n_clusters=8, max_iter=300, tol=1e-4, random_state=None):\n",
    "        \"\"\"\n",
    "        Parameters:\n",
    "            n_clusters: Number of clusters.\n",
    "            max_iter: Maximum number of iterations.\n",
    "            tol: Convergence threshold based on center movement.\n",
    "            random_state: Random seed.\n",
    "        \"\"\"\n",
    "        self.n_clusters = n_clusters\n",
    "        self.max_iter = max_iter\n",
    "        self.tol = tol\n",
    "        self.random_state = random_state\n",
    "        self.cluster_centers_ = None\n",
    "        self.labels_ = None\n",
    "        self.inertia_ = None  # Sum of Squared Errors (SSE)\n",
    "\n",
    "    def _initialize_centers(self, X):\n",
    "        \"\"\"\n",
    "        Randomly select (use random_state) n_clusters samples as the initial cluster centers.\n",
    "        \"\"\"\n",
    "        np.random.seed(self.random_state)\n",
    "        indices = np.random.choice(X.shape[0], self.n_clusters, replace=False)\n",
    "        return X[indices]\n",
    "\n",
    "    def fit(self, X):\n",
    "        \"\"\"\n",
    "        Train the KMeans model.\n",
    "\n",
    "        Parameters:\n",
    "            X: numpy array or DataFrame, shape (n_samples, n_features)\n",
    "        \"\"\"\n",
    "        if isinstance(X, pd.DataFrame):\n",
    "            X = X.values\n",
    "        n_samples, n_features = X.shape\n",
    "\n",
    "        # 1. Initialize centers\n",
    "        # 2 Points\n",
    "        # TODO ===== YOUR CODE HERE =====\n",
    "\n",
    "        # TODO ==========================\n",
    "\n",
    "        for i in range(self.max_iter):\n",
    "            # 2. Assign each sample to the nearest center (using Euclidean distance)\n",
    "            distances = np.linalg.norm(X[:, np.newaxis] - centers, axis=2)  # shape: (n_samples, n_clusters)\n",
    "            labels = np.argmin(distances, axis=1)\n",
    "\n",
    "            # 3. Update each cluster center\n",
    "            new_centers = np.zeros((self.n_clusters, n_features))\n",
    "            for k in range(self.n_clusters):\n",
    "                # If there are samples in cluster k, compute the mean; otherwise, randomly reinitialize the center\n",
    "                # 2 Points\n",
    "                # TODO ===== YOUR CODE HERE =====\n",
    "                \n",
    "                # TODO ==========================\n",
    "\n",
    "            # 4. Check for convergence: stop if all centers move less than tol\n",
    "            # 2 Points\n",
    "            # TODO ===== YOUR CODE HERE =====\n",
    "            \n",
    "            # TODO ==========================\n",
    "\n",
    "        # 5. Final assignment and computation of Sum of Squared Errors (SSE)\n",
    "        distances = np.linalg.norm(X[:, np.newaxis] - centers, axis=2)\n",
    "        labels = np.argmin(distances, axis=1)\n",
    "        inertia = np.sum((X - centers[labels]) ** 2)\n",
    "\n",
    "        self.cluster_centers_ = centers\n",
    "        self.labels_ = labels\n",
    "        self.inertia_ = inertia\n",
    "\n",
    "        return self\n",
    "    # You actually won't use this method in this assignment, but once a K-Means algorithm has been finalized, it can be used for the new data.\n",
    "    def predict(self, X):\n",
    "        \"\"\"\n",
    "        Predict the cluster labels for new data using Euclidean Distance.\n",
    "\n",
    "        Parameters:\n",
    "            X: numpy array or DataFrame, shape (n_samples, n_features)\n",
    "\n",
    "        Returns:\n",
    "            Array of cluster labels\n",
    "        \"\"\"\n",
    "        if isinstance(X, pd.DataFrame):\n",
    "            X = X.values\n",
    "        # 2 Points\n",
    "        # TODO ===== YOUR CODE HERE =====\n",
    "\n",
    "        # TODO ==========================\n",
    "        return labels\n",
    "\n",
    "    def fit_predict(self, X):\n",
    "        \"\"\"\n",
    "        Fit the data and return the cluster labels.\n",
    "        \"\"\"\n",
    "        self.fit(X)\n",
    "        return self.labels_\n",
    "\n",
    "\n",
    "\n",
    "# List columns to exclude (all non-numeric columns)\n",
    "exclude_cols = [\n",
    "    'Education',\n",
    "    'Marital_Status',\n",
    "    'AcceptedCmp3',\n",
    "    'AcceptedCmp4',\n",
    "    'AcceptedCmp5',\n",
    "    'AcceptedCmp1',\n",
    "    'AcceptedCmp2',\n",
    "    'Complain',\n",
    "    'Z_CostContact',\n",
    "    'Z_Revenue',\n",
    "    'Response'\n",
    "]\n",
    "\n",
    "# Exclude these columns from 'market' and copy the result to df_kmeans.\n",
    "# Assume that 'market' is a preloaded DataFrame. Load data if necessary.\n",
    "df_kmeans = market.drop(columns=exclude_cols, axis=1).copy()\n",
    "\n",
    "# Standardize the numeric columns (including the recently encoded ones)\n",
    "scaler = StandardScaler()\n",
    "df_kmeans_scaled = scaler.fit_transform(df_kmeans)\n",
    "\n",
    "# Use the Elbow Method to select the appropriate number of clusters (k)\n",
    "cost_kmeans = []\n",
    "K_range = range(2, 6)\n",
    "# 2 Points\n",
    "# TODO ===== YOUR CODE HERE =====\n",
    "\n",
    "# TODO ==========================\n",
    "\n",
    "# Plot the elbow curve\n",
    "plt.figure(figsize=(6, 4))\n",
    "sns.lineplot(x=list(K_range), y=cost_kmeans, marker='o')\n",
    "plt.title('Elbow Method for KMeans')\n",
    "plt.xlabel('Number of clusters (k)')\n",
    "plt.ylabel('Inertia / SSE')\n",
    "plt.show()\n",
    "\n"
   ]
  },
  {
   "cell_type": "code",
   "execution_count": null,
   "id": "128fb8ed3deeb86f",
   "metadata": {
    "ExecuteTime": {
     "end_time": "2025-02-04T05:38:00.196557Z",
     "start_time": "2025-02-04T05:38:00.099884Z"
    },
    "colab": {
     "base_uri": "https://localhost:8080/",
     "height": 564
    },
    "collapsed": true,
    "id": "128fb8ed3deeb86f",
    "outputId": "49bf6460-ebf1-4f09-9fd0-933dd28cb4dd"
   },
   "outputs": [],
   "source": [
    "# Choose the appropriate number of clusters and perform the final clustering\n",
    "# 2 Points\n",
    "# TODO ===== YOUR CODE HERE =====\n",
    "\n",
    "# TODO ==========================\n",
    "kmeans_final = KMeans(n_clusters=k_final, random_state=0)\n",
    "clusters_kmeans = kmeans_final.fit_predict(df_kmeans_scaled)\n",
    "\n",
    "# Add the new cluster labels back to the original DataFrame\n",
    "market['kmeans_clusters'] = clusters_kmeans\n",
    "\n",
    "# Visualization (example: Income vs total_items_bought)\n",
    "plt.figure(figsize=(12, 6))\n",
    "sns.scatterplot(\n",
    "    x='Income',\n",
    "    y='total_items_bought',\n",
    "    data=market,\n",
    "    hue='kmeans_clusters',\n",
    "    palette='Set2'\n",
    ")\n",
    "plt.title('Income vs. Total Items Bought (KMeans Clusters)')\n",
    "plt.show()\n"
   ]
  },
  {
   "cell_type": "code",
   "execution_count": null,
   "id": "ea103f525903fa0c",
   "metadata": {
    "ExecuteTime": {
     "end_time": "2025-02-04T05:38:00.235614Z",
     "start_time": "2025-02-04T05:38:00.221838Z"
    },
    "colab": {
     "base_uri": "https://localhost:8080/"
    },
    "collapsed": true,
    "id": "ea103f525903fa0c",
    "outputId": "6d0743a4-94d9-47d3-ab94-4e1b8dd9a8f7"
   },
   "outputs": [],
   "source": [
    "\n",
    "# View statistical descriptions for each cluster (numeric columns)\n",
    "cluster_stats_kmeans = (\n",
    "    market\n",
    "    .groupby('kmeans_clusters')[market.select_dtypes('number').columns]\n",
    "    .agg(['mean', 'sum'])\n",
    ")\n",
    "print(cluster_stats_kmeans)\n",
    "\n"
   ]
  },
  {
   "cell_type": "code",
   "execution_count": null,
   "id": "2982fb8d87e8a253",
   "metadata": {
    "ExecuteTime": {
     "end_time": "2025-02-04T05:38:00.315302Z",
     "start_time": "2025-02-04T05:38:00.261946Z"
    },
    "colab": {
     "base_uri": "https://localhost:8080/"
    },
    "collapsed": true,
    "id": "2982fb8d87e8a253",
    "outputId": "9a26f9f3-9d6a-4c64-c0ab-f02535cf8200"
   },
   "outputs": [],
   "source": [
    "##################################################\n",
    "# Compute Sum of Squared Errors (SSE) and Silhouette Coefficient\n",
    "##################################################\n",
    "\n",
    "# Print the final Sum of Squared Errors (SSE) saved in our custom KMeans model\n",
    "print(\"Final SSE (Inertia):\", kmeans_final.inertia_)\n",
    "\n",
    "# Compute the Silhouette Coefficient\n",
    "# Note: Silhouette score is based on sample distances, so interpret cautiously for high-dimensional data\n",
    "silhouette_coef = silhouette_score(df_kmeans_scaled, clusters_kmeans)\n",
    "print(\"Silhouette Coefficient:\", silhouette_coef)"
   ]
  },
  {
   "cell_type": "code",
   "execution_count": null,
   "id": "eea1550b087e1818",
   "metadata": {
    "ExecuteTime": {
     "end_time": "2025-02-04T05:38:01.095492Z",
     "start_time": "2025-02-04T05:38:00.421401Z"
    },
    "colab": {
     "base_uri": "https://localhost:8080/",
     "height": 779
    },
    "collapsed": true,
    "id": "eea1550b087e1818",
    "outputId": "84fb9cf1-c24d-4127-a953-e8f0a62cc2eb"
   },
   "outputs": [],
   "source": [
    "\n",
    "fig, ax = plt.subplots(2, 3, figsize=(24, 12))\n",
    "_ = sns.scatterplot(x='Income', y='MntWines', data=market, hue='kmeans_clusters', palette='Set2', ax=ax[0, 0])\n",
    "_ = sns.scatterplot(x='Income', y='MntFruits', data=market, hue='kmeans_clusters', palette='Set2', ax=ax[0, 1])\n",
    "_ = sns.scatterplot(x='Income', y='MntMeatProducts', data=market, hue='kmeans_clusters', palette='Set2', ax=ax[0, 2])\n",
    "_ = sns.scatterplot(x='Income', y='MntFishProducts', data=market, hue='kmeans_clusters', palette='Set2', ax=ax[1, 0])\n",
    "_ = sns.scatterplot(x='Income', y='MntSweetProducts', data=market, hue='kmeans_clusters', palette='Set2', ax=ax[1, 1])\n",
    "_ = sns.scatterplot(x='Income', y='MntGoldProds', data=market, hue='kmeans_clusters', palette='Set2', ax=ax[1, 2])\n",
    "\n",
    "_ = ax[0, 0].set_title('Amount of Wine Products Bought by kmeans_clusters')\n",
    "_ = ax[0, 1].set_title('Amount of Fruits Bought by kmeans_clusters')\n",
    "_ = ax[0, 2].set_title('Amount of Meat Products Bought by kmeans_clusters')\n",
    "_ = ax[1, 0].set_title('Amount of Fish Products Bought by kmeans_clusters')\n",
    "_ = ax[1, 1].set_title('Amount of Sweet Products Bought by kmeans_clusters')\n",
    "_ = ax[1, 2].set_title('Amount of Gold Products Bought by kmeans_clusters')"
   ]
  },
  {
   "cell_type": "markdown",
   "id": "5276ddd2c84ffdca",
   "metadata": {
    "id": "5276ddd2c84ffdca"
   },
   "source": [
    "# K-Prototype"
   ]
  },
  {
   "cell_type": "code",
   "execution_count": null,
   "id": "d48f19579c5e214a",
   "metadata": {
    "ExecuteTime": {
     "end_time": "2025-02-04T05:38:01.121787Z",
     "start_time": "2025-02-04T05:38:01.117575Z"
    },
    "id": "d48f19579c5e214a"
   },
   "outputs": [],
   "source": [
    "ss = StandardScaler()\n",
    "ss_market = market.copy()\n",
    "\n",
    "# Select all numeric columns first\n",
    "numeric_cols = ss_market.select_dtypes(include='number').columns\n",
    "\n",
    "# Then filter out the columns to exclude (even if they are numeric, they are treated as categorical and not used for scaling)\n",
    "cols_to_scale = [col for col in numeric_cols if col not in exclude_cols]\n",
    "\n",
    "# Standardize the selected columns\n",
    "ss_market[cols_to_scale] = ss.fit_transform(ss_market[cols_to_scale])"
   ]
  },
  {
   "cell_type": "code",
   "execution_count": null,
   "id": "e5c6b583117f35e9",
   "metadata": {
    "ExecuteTime": {
     "end_time": "2025-02-04T05:38:01.172350Z",
     "start_time": "2025-02-04T05:38:01.170484Z"
    },
    "colab": {
     "base_uri": "https://localhost:8080/"
    },
    "collapsed": true,
    "id": "e5c6b583117f35e9",
    "outputId": "3400316e-9f60-4b96-dec1-85b05a578d9b"
   },
   "outputs": [],
   "source": [
    "# getting categorical columns and their indices.\n",
    "catColumnsPos = [ss_market.columns.get_loc(col) for col in exclude_cols if col in ss_market.columns]\n",
    "print('Categorical columns           : {}'.format(exclude_cols))\n"
   ]
  },
  {
   "cell_type": "code",
   "execution_count": null,
   "id": "4c0d1a7df7cf8763",
   "metadata": {
    "ExecuteTime": {
     "end_time": "2025-02-04T05:38:01.201442Z",
     "start_time": "2025-02-04T05:38:01.199744Z"
    },
    "colab": {
     "base_uri": "https://localhost:8080/"
    },
    "collapsed": true,
    "id": "4c0d1a7df7cf8763",
    "outputId": "0ca19866-7e11-4311-c311-b2f63f20ae68"
   },
   "outputs": [],
   "source": [
    "print('Categorical columns position  : {}'.format(catColumnsPos))"
   ]
  },
  {
   "cell_type": "code",
   "execution_count": null,
   "id": "61835866eeeca26a",
   "metadata": {
    "ExecuteTime": {
     "end_time": "2025-02-04T05:38:01.229265Z",
     "start_time": "2025-02-04T05:38:01.226227Z"
    },
    "id": "61835866eeeca26a"
   },
   "outputs": [],
   "source": [
    "dfMatrix = ss_market.to_numpy()"
   ]
  },
  {
   "cell_type": "code",
   "execution_count": null,
   "id": "5bfb9cbb649010cf",
   "metadata": {
    "ExecuteTime": {
     "end_time": "2025-02-04T05:38:10.989414Z",
     "start_time": "2025-02-04T05:38:01.254843Z"
    },
    "colab": {
     "base_uri": "https://localhost:8080/"
    },
    "collapsed": true,
    "id": "5bfb9cbb649010cf",
    "outputId": "59fa043a-6b40-46a2-c659-75e9cfcc3e6e"
   },
   "outputs": [],
   "source": [
    "cost = []\n",
    "for x in range(2, 6):\n",
    "    kprototype = KPrototypes(n_jobs=-1, n_clusters=x, init='Huang', random_state=0)\n",
    "    clusters_kprototype = kprototype.fit_predict(dfMatrix, categorical=catColumnsPos)\n",
    "    cost.append(kprototype.cost_)\n",
    "    print('kprototye_clusters initiation: {}'.format(clusters_kprototype))"
   ]
  },
  {
   "cell_type": "code",
   "execution_count": null,
   "id": "1e28f36ccc893ec0",
   "metadata": {
    "ExecuteTime": {
     "end_time": "2025-02-04T05:38:11.016593Z",
     "start_time": "2025-02-04T05:38:11.014137Z"
    },
    "id": "1e28f36ccc893ec0"
   },
   "outputs": [],
   "source": [
    "# Converting the results into a dataframe and plotting them\n",
    "df_cost = pd.DataFrame()\n",
    "df_cost['kprototye_clusters'] = range(2, 6)\n",
    "df_cost['cost'] = cost"
   ]
  },
  {
   "cell_type": "code",
   "execution_count": null,
   "id": "1ba5bbd94b84fa7d",
   "metadata": {
    "ExecuteTime": {
     "end_time": "2025-02-04T05:38:11.141399Z",
     "start_time": "2025-02-04T05:38:11.040164Z"
    },
    "colab": {
     "base_uri": "https://localhost:8080/",
     "height": 467
    },
    "collapsed": true,
    "id": "1ba5bbd94b84fa7d",
    "outputId": "b02e6970-23b6-49b9-81e8-d6d4b4fa4417"
   },
   "outputs": [],
   "source": [
    "# elbow method for number of clusters\n",
    "sns.lineplot(x='kprototye_clusters', y='cost', data=df_cost)"
   ]
  },
  {
   "cell_type": "code",
   "execution_count": null,
   "id": "e73ea7f8a5e8268f",
   "metadata": {
    "ExecuteTime": {
     "end_time": "2025-02-04T05:38:12.340621Z",
     "start_time": "2025-02-04T05:38:11.208812Z"
    },
    "id": "e73ea7f8a5e8268f"
   },
   "outputs": [],
   "source": [
    "# Kmeans tuned, choose the appropriate number of clusters and perform the final clustering\n",
    "# 2 Points\n",
    "# TODO ===== YOUR CODE HERE =====\n",
    "kprototype = KPrototypes(n_jobs=-1, n_clusters=, init='Huang', random_state=0)\n",
    "# TODO ==========================\n",
    "clusters_kprototype = kprototype.fit_predict(dfMatrix, categorical=catColumnsPos)"
   ]
  },
  {
   "cell_type": "code",
   "execution_count": null,
   "id": "150f504557f4f976",
   "metadata": {
    "ExecuteTime": {
     "end_time": "2025-02-04T05:38:12.365302Z",
     "start_time": "2025-02-04T05:38:12.363465Z"
    },
    "id": "150f504557f4f976"
   },
   "outputs": [],
   "source": [
    "market['kprototye_clusters'] = clusters_kprototype"
   ]
  },
  {
   "cell_type": "code",
   "execution_count": null,
   "id": "c439057aef22f191",
   "metadata": {
    "ExecuteTime": {
     "end_time": "2025-02-04T05:38:12.650566Z",
     "start_time": "2025-02-04T05:38:12.389283Z"
    },
    "colab": {
     "base_uri": "https://localhost:8080/",
     "height": 599
    },
    "collapsed": true,
    "id": "c439057aef22f191",
    "outputId": "02c6be3e-deed-472d-b100-6cb60781ab6b"
   },
   "outputs": [],
   "source": [
    "plt.figure(figsize=(12, 6))\n",
    "\n",
    "# Create a scatter plot for Income vs. Total Items Bought with clusters labeled by 'kprototye_clusters'\n",
    "_ = sns.scatterplot(\n",
    "    x='Income',\n",
    "    y='total_items_bought',\n",
    "    data=market,\n",
    "    hue='kprototye_clusters',\n",
    "    palette='Set2'\n",
    ")\n",
    "_ = plt.title('Income vs Total Items Bought')\n",
    "_ = plt.ylabel('Total Items Bought')\n",
    "\n",
    "def compute_sse(df_numeric, clusters):\n",
    "    \"\"\"\n",
    "    Compute the Sum of Squared Errors (SSE) for clusters using only numeric data. Mimic the process for K-Means\n",
    "\n",
    "    Parameters:\n",
    "        df_numeric (numpy.ndarray): 2D array containing numeric data.\n",
    "        clusters (numpy.ndarray): Array of cluster labels corresponding to the rows of df_numeric.\n",
    "\n",
    "    Returns:\n",
    "        float: The total SSE across all clusters.\n",
    "    \"\"\"\n",
    "    sse = 0.0\n",
    "    # 2 Points\n",
    "    # TODO ===== YOUR CODE HERE =====\n",
    "\n",
    "    # TODO ==========================\n",
    "    return sse\n",
    "\n",
    "##################################################\n",
    "# Compute Within-Cluster SSE and Silhouette Coefficient\n",
    "##################################################\n",
    "\n",
    "# 1. Get the indices of numeric columns by excluding all categorical column positions\n",
    "numeric_indices = [i for i in range(dfMatrix.shape[1]) if i not in catColumnsPos]\n",
    "\n",
    "# 2. Extract the numeric data from dfMatrix\n",
    "df_numeric = dfMatrix[:, numeric_indices]\n",
    "\n",
    "# 3. Compute the SSE for each cluster using the defined function\n",
    "sse_kprototype = compute_sse(df_numeric, clusters_kprototype)\n",
    "print(\"Final SSE (numeric columns only):\", sse_kprototype)\n",
    "\n",
    "# 4. Compute the Silhouette Coefficient\n",
    "# Note: The Silhouette score relies on pairwise distances between samples, so caution is needed when interpreting\n",
    "# results for high-dimensional data.\n",
    "silhouette_coef_kprototype = silhouette_score(df_kmeans_scaled, clusters_kprototype)\n",
    "print(\"Silhouette Coefficient:\", silhouette_coef_kprototype)"
   ]
  },
  {
   "cell_type": "code",
   "execution_count": null,
   "id": "d97886c842fe7b77",
   "metadata": {
    "ExecuteTime": {
     "end_time": "2025-02-04T05:38:12.710817Z",
     "start_time": "2025-02-04T05:38:12.692084Z"
    },
    "colab": {
     "base_uri": "https://localhost:8080/",
     "height": 226
    },
    "collapsed": true,
    "id": "d97886c842fe7b77",
    "outputId": "49d87355-c69e-4298-b827-5f4fed3da546"
   },
   "outputs": [],
   "source": [
    "# Now our clusters are set, we need to visualize and get descriptive of the data according to clusters.\n",
    "# However, from what I got we can conclude that; there are 4 clusters of the customers.\n",
    "# Regular (cluster2), Bronze (cluster 1), Premium (cluster 0),and Gold Customers (cluster 3) (couldn't come up with a better idea)\n",
    "# Let's see specifications of these clusters:\n",
    "market.groupby(['kprototye_clusters'])[market.select_dtypes(include=['number']).columns].agg(['mean', 'sum'])\n"
   ]
  },
  {
   "cell_type": "code",
   "execution_count": null,
   "id": "6e02a8703e96d145",
   "metadata": {
    "ExecuteTime": {
     "end_time": "2025-02-04T05:38:13.386238Z",
     "start_time": "2025-02-04T05:38:12.754023Z"
    },
    "colab": {
     "base_uri": "https://localhost:8080/",
     "height": 779
    },
    "collapsed": true,
    "id": "6e02a8703e96d145",
    "outputId": "1e1bc77b-363d-4d5b-95be-24f1171373f3"
   },
   "outputs": [],
   "source": [
    "fig, ax = plt.subplots(2, 3, figsize=(24, 12))\n",
    "_ = sns.scatterplot(x='Income', y='MntWines', data=market, hue='kprototye_clusters', palette='Set2', ax=ax[0, 0])\n",
    "_ = sns.scatterplot(x='Income', y='MntFruits', data=market, hue='kprototye_clusters', palette='Set2', ax=ax[0, 1])\n",
    "_ = sns.scatterplot(x='Income', y='MntMeatProducts', data=market, hue='kprototye_clusters', palette='Set2', ax=ax[0, 2])\n",
    "_ = sns.scatterplot(x='Income', y='MntFishProducts', data=market, hue='kprototye_clusters', palette='Set2', ax=ax[1, 0])\n",
    "_ = sns.scatterplot(x='Income', y='MntSweetProducts', data=market, hue='kprototye_clusters', palette='Set2',\n",
    "                    ax=ax[1, 1])\n",
    "_ = sns.scatterplot(x='Income', y='MntGoldProds', data=market, hue='kprototye_clusters', palette='Set2', ax=ax[1, 2])\n",
    "\n",
    "_ = ax[0, 0].set_title('Amount of Wine Products Bought by Kprototye_Clusters')\n",
    "_ = ax[0, 1].set_title('Amount of Fruits Bought by Kprototye_Clusters')\n",
    "_ = ax[0, 2].set_title('Amount of Meat Products Bought by Kprototye_Clusters')\n",
    "_ = ax[1, 0].set_title('Amount of Fish Products Bought by Kprototye_Clusters')\n",
    "_ = ax[1, 1].set_title('Amount of Sweet Products Bought by Kprototye_Clusters')\n",
    "_ = ax[1, 2].set_title('Amount of Gold Products Bought by Kprototye_Clusters')"
   ]
  },
  {
   "cell_type": "markdown",
   "id": "198f934b",
   "metadata": {},
   "source": [
    "# Observations\n",
    "\n",
    "## Scatters\n",
    "- **Cluster 3 (Gold Customers)** clearly earn the highest among all clusters, even though they are not the top buyers for some items (e.g., Fruits, Gold products).\n",
    "- In almost every product category, the highest buyers are Gold or Premium customers.\n",
    "\n",
    "### Suggestions:\n",
    "1. **Retain Gold and Premium Customers:**\n",
    "   - Continue serving their purchasing needs with exclusive deals.\n",
    "   - For example, offer special promotions such as deals on high- or moderate-quality wine paired with cheese.\n",
    "\n",
    "2. **Attract Lower-Tier Customers (Regular and Bronze):**\n",
    "   - Consider expanding the product range to include a spectrum of quality levels (low, medium, and high) so that products are accessible to everyone.\n",
    "   - Alternatively, create targeted deals to attract low- to middle-income customers.\n",
    "\n",
    "## Grouped Table - Number of Purchases\n",
    "- **Cluster 1** predominantly responds to deals.\n",
    "  - It is advisable to monitor their purchasing behavior closely and adjust deals as their buying patterns change.\n",
    "- Bronze, Gold, and Premium customers prefer online shopping.\n",
    "  - To reach these groups, consider establishing email subscriptions, Instagram accounts (if not already in place), and other digital marketing channels.\n",
    "  - Ensure that current customers are informed about deals, discounts, and promotions.\n",
    "- **Premium and Gold customers** also tend to purchase through catalogs.\n",
    "  - Since catalog buying involves ordering via email and shipping items to customers, offering shipping deals or free shipping could be very attractive.\n",
    "  - Additionally, ensure that items are delivered on time.\n",
    "- In-store purchases show similar trends, so the same suggestions could be applied.\n",
    "\n",
    "## Website Visits and Online Shopping Insights\n",
    "- **Regular Customers:**\n",
    "  - They visit the website frequently, yet they do not always complete purchases.\n",
    "- **Premium and Gold Customers:**\n",
    "  - They tend to visit the website less, likely because they know what they want and spend less time online.\n",
    "- Regular customers, despite their high web traffic, are predominantly buying wine and meat products, which suggests potential for improving conversion rates for these segments."
   ]
  },
  {
   "cell_type": "markdown",
   "id": "V8QzuyvJYHWy",
   "metadata": {
    "id": "V8QzuyvJYHWy"
   },
   "source": [
    "\n",
    "# KNN\n",
    "In this section, you will implement the kNN method using the dataset and predict the customers' education level.\n",
    "\n",
    "Remember to also answer, in short response, the analysis section after you finish implementing kNN."
   ]
  },
  {
   "cell_type": "code",
   "execution_count": null,
   "id": "4SxuexRs_YtD",
   "metadata": {
    "ExecuteTime": {
     "end_time": "2025-02-04T05:38:13.407462Z",
     "start_time": "2025-02-04T05:38:13.403558Z"
    },
    "id": "4SxuexRs_YtD"
   },
   "outputs": [],
   "source": [
    "from collections import Counter\n",
    "class KNN:\n",
    "    def __init__(self, k=5):\n",
    "        \"\"\"\n",
    "        Parameters:\n",
    "            n_neighbors: Number of nearest neighbors to consider.\n",
    "        \"\"\"\n",
    "        self.n_neighbors = k\n",
    "        self.X_train = None\n",
    "        self.Y_train = None\n",
    "\n",
    "    def fit(self, X, Y):\n",
    "        \"\"\"\n",
    "        Store the training data.\n",
    "\n",
    "        Parameters:\n",
    "            X: numpy array or DataFrame, shape (n_samples, n_features)\n",
    "            Y: numpy array or Series, shape (n_samples,)\n",
    "        \"\"\"\n",
    "        if isinstance(X, pd.DataFrame):\n",
    "            X = X.values\n",
    "        if isinstance(Y, pd.Series):\n",
    "            Y = Y.values\n",
    "\n",
    "        self.X_train = X\n",
    "        self.Y_train = Y\n",
    "        return self\n",
    "\n",
    "    def _compute_distances(self, X):\n",
    "        \"\"\"\n",
    "        Compute the Euclidean distance between X and training samples.\n",
    "\n",
    "        Parameters:\n",
    "            X: numpy array, shape (n_samples, n_features)\n",
    "\n",
    "        Returns:\n",
    "            Distances: numpy array, shape (n_samples, n_train_samples)\n",
    "        \"\"\"\n",
    "        # 2 Points\n",
    "        # TODO ===== YOUR CODE HERE =====\n",
    "        return \n",
    "        # TODO ==========================\n",
    "\n",
    "\n",
    "    def predict(self, X):\n",
    "        \"\"\"\n",
    "        Predict class labels for the given input.\n",
    "\n",
    "        Parameters:\n",
    "            X: numpy array or DataFrame, shape (n_samples, n_features)\n",
    "\n",
    "        Returns:\n",
    "            Predicted labels: numpy array, shape (n_samples,)\n",
    "        \"\"\"\n",
    "        if isinstance(X, pd.DataFrame):\n",
    "            X = X.values\n",
    "        # 2 Points\n",
    "        # TODO ===== YOUR CODE HERE =====\n",
    "\n",
    "        # TODO ==========================\n",
    "        return predictions\n",
    "\n",
    "    def score(self, X, Y):\n",
    "        \"\"\"\n",
    "        Compute accuracy of the classifier.\n",
    "\n",
    "        Parameters:\n",
    "            X: numpy array or DataFrame, shape (n_samples, n_features)\n",
    "            Y: numpy array or Series, shape (n_samples,)\n",
    "\n",
    "        Returns:\n",
    "            Accuracy score (float)\n",
    "        \"\"\"\n",
    "        if isinstance(Y, pd.Series):\n",
    "            Y = Y.values\n",
    "\n",
    "        predictions = self.predict(X)\n",
    "        return np.mean(predictions == Y)\n",
    "\n",
    "    def fit_predict(self, X, Y):\n",
    "        \"\"\"\n",
    "        Fit the data and return predictions.\n",
    "        \"\"\"\n",
    "        self.fit(X, Y)\n",
    "        return self.predict(X)\n"
   ]
  },
  {
   "cell_type": "code",
   "execution_count": null,
   "id": "EDeh5C7tYKcY",
   "metadata": {
    "ExecuteTime": {
     "end_time": "2025-02-04T05:38:13.551950Z",
     "start_time": "2025-02-04T05:38:13.544089Z"
    },
    "colab": {
     "base_uri": "https://localhost:8080/"
    },
    "id": "EDeh5C7tYKcY",
    "outputId": "bcae2b05-5514-431c-c8ac-95679d568d51"
   },
   "outputs": [],
   "source": [
    "from sklearn.preprocessing import LabelEncoder\n",
    "from sklearn.model_selection import train_test_split\n",
    "\n",
    "scal = StandardScaler()  # Using your custom StandardScaler\n",
    "le = LabelEncoder()\n",
    "\n",
    "knn_market = market.copy()\n",
    "\n",
    "exclude_c = [\n",
    "    'Education',\n",
    "    'Marital_Status',\n",
    "    'AcceptedCmp3',\n",
    "    'AcceptedCmp4',\n",
    "    'AcceptedCmp5',\n",
    "    'AcceptedCmp1',\n",
    "    'AcceptedCmp2',\n",
    "    'Complain',\n",
    "    'Z_CostContact',\n",
    "    'Z_Revenue',\n",
    "    'Response',\n",
    "    'kprototye_clusters',\n",
    "    'kmeans_clusters'\n",
    "]\n",
    "\n",
    "# Encode the target variable (Education)\n",
    "knn_market['Education'] = le.fit_transform(knn_market['Education'])\n",
    "label_mapping = dict(zip(le.classes_, le.transform(le.classes_)))\n",
    "inverse_label_mapping = {v: k for k, v in label_mapping.items()}  # Reverse mapping\n",
    "\n",
    "# Select numeric features only (excluding categorical)\n",
    "numeric_cols = knn_market.select_dtypes(include='number').columns\n",
    "X = knn_market.drop(columns=exclude_c)  # Drop Education from features\n",
    "Y = knn_market['Education']  # Target variable\n",
    "\n",
    "# Remove excluded columns (categorical or unwanted numeric)\n",
    "cols_to_scale = [col for col in X.columns if col not in exclude_c]\n",
    "\n",
    "# Standardize the selected numeric columns using the custom StandardScaler\n",
    "X[cols_to_scale] = scal.fit_transform(X[cols_to_scale])\n",
    "\n",
    "# Split into train and test sets (80% train, 20% test)\n",
    "X_train, X_test, Y_train, Y_test = train_test_split(X, Y, test_size=0.2, random_state=42, stratify=Y)\n",
    "\n",
    "# Display dataset shapes\n",
    "print(f\"X_train shape: {X_train.shape}, X_test shape: {X_test.shape}\")\n",
    "print(f\"Y_train shape: {Y_train.shape}, Y_test shape: {Y_test.shape}\")\n"
   ]
  },
  {
   "cell_type": "code",
   "execution_count": null,
   "id": "AvoIH38J_19s",
   "metadata": {
    "ExecuteTime": {
     "end_time": "2025-02-04T05:38:13.726958Z",
     "start_time": "2025-02-04T05:38:13.639658Z"
    },
    "colab": {
     "base_uri": "https://localhost:8080/"
    },
    "id": "AvoIH38J_19s",
    "outputId": "a9962ff6-d8ef-4f0b-ce60-115658989cb7"
   },
   "outputs": [],
   "source": [
    "# Instantiate the kNN model\n",
    "# 2 Points\n",
    "# TODO ===== YOUR CODE HERE =====\n",
    "\n",
    "# TODO ==========================\n",
    "\n",
    "# Train the model on the training data\n",
    "# 2 Points\n",
    "# TODO ===== YOUR CODE HERE =====\n",
    "\n",
    "# TODO ==========================\n",
    "\n",
    "# Compute accuracy\n",
    "# 2 Points\n",
    "# TODO ===== YOUR CODE HERE =====\n",
    "\n",
    "# TODO ==========================\n",
    "print(f\"Prediction Accuracy: {accuracy:.4f}\")\n"
   ]
  },
  {
   "cell_type": "code",
   "execution_count": null,
   "id": "14BeDn2xDbh9",
   "metadata": {
    "ExecuteTime": {
     "end_time": "2025-02-04T05:38:13.911020Z",
     "start_time": "2025-02-04T05:38:13.750965Z"
    },
    "colab": {
     "base_uri": "https://localhost:8080/",
     "height": 564
    },
    "id": "14BeDn2xDbh9",
    "outputId": "4bd3f82c-72bb-44eb-c763-ac47174581a4"
   },
   "outputs": [],
   "source": [
    "from sklearn.decomposition import PCA\n",
    "\n",
    "# Apply PCA to reduce the test set to 2D\n",
    "pca = PCA(n_components=2)\n",
    "X_train_pca = pca.fit_transform(X_train)  # Fit on train set\n",
    "X_test_pca = pca.transform(X_test)  # Transform test set\n",
    "\n",
    "import matplotlib.pyplot as plt\n",
    "import seaborn as sns\n",
    "\n",
    "# Create scatter plot with actual labels\n",
    "plt.figure(figsize=(10, 6))\n",
    "Y_test_labels = np.array([inverse_label_mapping[label] for label in Y_test])\n",
    "sns.scatterplot(x=X_test_pca[:, 0], y=X_test_pca[:, 1], hue=Y_test_labels, palette='coolwarm', edgecolor='k')\n",
    "\n",
    "# Labels and title\n",
    "plt.xlabel('PCA Component 1')\n",
    "plt.ylabel('PCA Component 2')\n",
    "plt.title('Visualization of Testing Set with Correct Education Labels')\n",
    "plt.legend(title=\"Education Level\", bbox_to_anchor=(1.05, 1), loc='upper left')\n",
    "\n",
    "plt.show()\n"
   ]
  },
  {
   "cell_type": "markdown",
   "id": "Ct-RGoFE8J8T",
   "metadata": {
    "id": "Ct-RGoFE8J8T"
   },
   "source": [
    "# Analysis (2 Points)\n",
    "#### In **3-4 sentences**, describe the performance of kNN in this situation and why it faces issues when encountering high dimensionality."
   ]
  }
 ],
 "metadata": {
  "colab": {
   "provenance": []
  },
  "kernelspec": {
   "display_name": "Python 3",
   "language": "python",
   "name": "python3"
  },
  "language_info": {
   "codemirror_mode": {
    "name": "ipython",
    "version": 2
   },
   "file_extension": ".py",
   "mimetype": "text/x-python",
   "name": "python",
   "nbconvert_exporter": "python",
   "pygments_lexer": "ipython2",
   "version": "2.7.6"
  }
 },
 "nbformat": 4,
 "nbformat_minor": 5
}
